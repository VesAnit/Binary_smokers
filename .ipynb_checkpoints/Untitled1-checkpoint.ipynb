{
 "cells": [
  {
   "cell_type": "code",
   "execution_count": 16,
   "id": "c98496d0-4911-4dae-862f-d99c076f3a98",
   "metadata": {},
   "outputs": [
    {
     "ename": "ModuleNotFoundError",
     "evalue": "No module named 'Binary_smokers_V_10_12'",
     "output_type": "error",
     "traceback": [
      "\u001b[0;31m---------------------------------------------------------------------------\u001b[0m",
      "\u001b[0;31mModuleNotFoundError\u001b[0m                       Traceback (most recent call last)",
      "Cell \u001b[0;32mIn[16], line 11\u001b[0m\n\u001b[1;32m      7\u001b[0m \u001b[38;5;28;01mimport\u001b[39;00m \u001b[38;5;21;01muvicorn\u001b[39;00m\n\u001b[1;32m     10\u001b[0m \u001b[38;5;66;03m# Импортируем функции обработки данных\u001b[39;00m\n\u001b[0;32m---> 11\u001b[0m \u001b[38;5;28;01mfrom\u001b[39;00m \u001b[38;5;21;01mBinary_smokers_V_10_12\u001b[39;00m\u001b[38;5;21;01m.\u001b[39;00m\u001b[38;5;21;01mipynb\u001b[39;00m \u001b[38;5;28;01mimport\u001b[39;00m preprocess  \u001b[38;5;66;03m# Импорт функций обработки данных\u001b[39;00m\n\u001b[1;32m     13\u001b[0m \u001b[38;5;66;03m# Применяем nest_asyncio для корректной работы с асинхронными функциями в Jupyter\u001b[39;00m\n\u001b[1;32m     14\u001b[0m nest_asyncio\u001b[38;5;241m.\u001b[39mapply()\n",
      "\u001b[0;31mModuleNotFoundError\u001b[0m: No module named 'Binary_smokers_V_10_12'"
     ]
    }
   ],
   "source": [
    "import nbimporter\n",
    "import joblib\n",
    "import pandas as pd\n",
    "from fastapi import FastAPI, UploadFile, File, HTTPException\n",
    "from io import StringIO\n",
    "import nest_asyncio  # Для работы с асинхронным циклом в Jupyter\n",
    "import uvicorn\n",
    "\n",
    "\n",
    "# Импортируем функции обработки данных\n",
    "from Binary_smokers_V_10_12.ipynb import preprocess  # Импорт функций обработки данных\n",
    "\n",
    "# Применяем nest_asyncio для корректной работы с асинхронными функциями в Jupyter\n",
    "nest_asyncio.apply()\n",
    "\n",
    "# Загружаем модель\n",
    "MODEL_FILE = \"voting_model3.pkl\"\n",
    "voting_model3 = joblib.load(MODEL_FILE)\n",
    "SCALER_FILE = \"scaler.pkl\"\n",
    "scaler = joblib.load(SCALER_FILE)\n",
    "\n",
    "app = FastAPI()\n",
    "\n",
    "@app.post(\"/predict_csv/\")\n",
    "async def predict_csv(file: UploadFile = File(...)):\n",
    "    \"\"\"\n",
    "    Принимает CSV файл с данными и делает предсказания для каждой строки.\n",
    "    \"\"\"\n",
    "    try:\n",
    "        # Читаем файл\n",
    "        content = await file.read()\n",
    "        data = pd.read_csv(StringIO(content.decode('utf-8')))\n",
    "        \n",
    "        # Применяем все преобразования\n",
    "        columns_to_scale = ['weight', 'height', 'waist', 'LDL', 'HDL']  # Укажи свои признаки\n",
    "        data = preprocess(data, columns_to_scale)\n",
    "        \n",
    "        # Делаем предсказания\n",
    "        predictions = voting_model3.predict(data)\n",
    "\n",
    "        # Формируем ответ\n",
    "        results = []\n",
    "        for i, pred in enumerate(predictions):\n",
    "            results.append({\n",
    "                \"input_row\": data.iloc[i].to_dict(),\n",
    "                \"predicted_class\": pred\n",
    "            })\n",
    "\n",
    "        return {\"predictions\": results}\n",
    "    \n",
    "    except Exception as e:\n",
    "        raise HTTPException(status_code=400, detail=f\"Error processing file: {str(e)}\")\n",
    "\n",
    "if __name__ == \"__main__\":\n",
    "    uvicorn.run(app, host=\"0.0.0.0\", port=8000)"
   ]
  },
  {
   "cell_type": "code",
   "execution_count": null,
   "id": "726605e5-c88c-42c4-aef8-8512ccdc7ddf",
   "metadata": {},
   "outputs": [],
   "source": []
  }
 ],
 "metadata": {
  "kernelspec": {
   "display_name": "Python 3 (ipykernel)",
   "language": "python",
   "name": "python3"
  },
  "language_info": {
   "codemirror_mode": {
    "name": "ipython",
    "version": 3
   },
   "file_extension": ".py",
   "mimetype": "text/x-python",
   "name": "python",
   "nbconvert_exporter": "python",
   "pygments_lexer": "ipython3",
   "version": "3.12.4"
  }
 },
 "nbformat": 4,
 "nbformat_minor": 5
}
