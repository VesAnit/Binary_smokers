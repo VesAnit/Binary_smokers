{
 "cells": [
  {
   "cell_type": "markdown",
   "id": "1b3f4926-005c-4398-835f-fe380802a1f6",
   "metadata": {},
   "source": [
    "***ЛИНЕЙНАЯ РЕГРЕССИЯ***"
   ]
  },
  {
   "cell_type": "markdown",
   "id": "db82d380-2c07-4fe0-8e08-7c4a21eb26cc",
   "metadata": {},
   "source": [
    "**Создание класса модели**"
   ]
  },
  {
   "cell_type": "code",
   "execution_count": 103,
   "id": "6be02088-af1a-4fe0-a70d-1380907fdc48",
   "metadata": {},
   "outputs": [],
   "source": [
    "class LinearCustomRegression:\n",
    "    def __init__(self, learning_rate=0.005, iterations=1000, tolerance=0.0001):\n",
    "        self.learning_rate = learning_rate\n",
    "        self.iterations = iterations\n",
    "        self.coef = None\n",
    "        self.intercept = 1\n",
    "        self.tolerance = tolerance\n",
    "        \n",
    "    def fit(self, X, y):\n",
    "        \n",
    "        num_objects = X.shape[0]\n",
    "        num_features = X.shape[1]\n",
    "        self.coef = np.zeros(num_features)\n",
    "        \n",
    "\n",
    "        MSE_start = 0\n",
    "        for iter in range(self.iterations):\n",
    "            y_pred = X@self.coef + self.intercept\n",
    "            #SGD, тут берем производные по сути, чтобы найти минимум,  \n",
    "            #tolerance - это минимальный шаг на итерации, когда поиск прекращается (обучение считается завершенным)\n",
    "            dc = -2/num_objects * X.T@(y - y_pred)\n",
    "            di = -2/num_objects * np.sum(y - y_pred)\n",
    "            self.coef -= self.learning_rate * dc\n",
    "            self.intercept -= self.learning_rate * di\n",
    "            MSE_new = np.mean((y-y_pred) ** 2)\n",
    "            if abs(MSE_start - MSE_new) <= self.tolerance:\n",
    "                break\n",
    "            MSE_start = MSE_new\n",
    "        \n",
    "    def predict(self, X):\n",
    "        \n",
    "        return X@self.coef + self.intercept\n",
    "\n",
    "    def metrics(self, X, y):\n",
    "        y_pred = self.predict(X)\n",
    "        RMSE = np.sqrt(np.mean((y-y_pred) ** 2))\n",
    "        return RMSE\n",
    "        \n",
    "\n",
    "    "
   ]
  },
  {
   "cell_type": "markdown",
   "id": "2e68f88f-1d78-4216-9b9b-c7f00bb38715",
   "metadata": {},
   "source": [
    "**Тестируем кастомную модель на рандомном массиве**"
   ]
  },
  {
   "cell_type": "code",
   "execution_count": 106,
   "id": "a4839004-be5b-489a-bedf-75f6d695b54a",
   "metadata": {},
   "outputs": [
    {
     "name": "stdout",
     "output_type": "stream",
     "text": [
      "RMSE: 0.3004711239191234\n",
      "Coef: [-0.06308777 -0.06400307 -0.06521246 -0.06707375 -0.06783112 -0.06347508\n",
      " -0.06101139 -0.06697858 -0.06619375 -0.07008668]\n",
      "Intercept: 0.865202723348752\n"
     ]
    }
   ],
   "source": [
    "import numpy as np\n",
    "\n",
    "np.random.seed(100)\n",
    "X = np.random.rand(1000, 10)  # 1000 объектов, 10 признаков\n",
    "y = np.random.rand(1000, )\n",
    "\n",
    "model = LinearCustomRegression()\n",
    "model.fit(X, y)\n",
    "\n",
    "y_pred = model.predict(X)\n",
    "\n",
    "RMSE = model.metrics(X, y)\n",
    "\n",
    "print(f\"RMSE: {RMSE}\")\n",
    "\n",
    "\n",
    "print(f\"Coef: {model.coef}\")\n",
    "print(f\"Intercept: {model.intercept}\")"
   ]
  },
  {
   "cell_type": "markdown",
   "id": "c82f4ae6-c2f4-4dcc-94ed-2803c60e5c1a",
   "metadata": {},
   "source": [
    "**Тестируем модель из sklearn на том же массиве**"
   ]
  },
  {
   "cell_type": "code",
   "execution_count": 109,
   "id": "b247b874-ca8a-4c91-84ca-587685c7d4c7",
   "metadata": {},
   "outputs": [
    {
     "name": "stdout",
     "output_type": "stream",
     "text": [
      "RMSE: 0.2929759340971125\n",
      "Coef: [-0.04304652  0.00479076 -0.00382972  0.00102137 -0.05827354  0.0217721\n",
      "  0.04604553 -0.0333535  -0.05701304 -0.083764  ]\n",
      "Intercept: 0.6000885339151881\n"
     ]
    }
   ],
   "source": [
    "from sklearn.linear_model import LinearRegression\n",
    "from sklearn.metrics import mean_squared_error, r2_score\n",
    "lin_reg_model = LinearRegression()\n",
    "lin_reg_model.fit(X, y)\n",
    "y_pred1 = lin_reg_model.predict(X)\n",
    "\n",
    "print(f\"RMSE: {np.sqrt(mean_squared_error(y, y_pred1))}\")\n",
    "\n",
    "print(f\"Coef: {lin_reg_model.coef_}\")\n",
    "print(f\"Intercept: {lin_reg_model.intercept_}\")\n"
   ]
  },
  {
   "cell_type": "code",
   "execution_count": null,
   "id": "54d55621-4569-4a73-931a-ca4a2b944902",
   "metadata": {},
   "outputs": [],
   "source": []
  },
  {
   "cell_type": "markdown",
   "id": "da140612-8767-4957-9183-e77d7a6f3806",
   "metadata": {},
   "source": [
    "***ЛОГИСТИЧЕСКАЯ РЕГРЕССИЯ***"
   ]
  },
  {
   "cell_type": "code",
   "execution_count": null,
   "id": "ccdaf555-d156-4c65-ae64-92f6e4ce5b37",
   "metadata": {},
   "outputs": [],
   "source": []
  }
 ],
 "metadata": {
  "kernelspec": {
   "display_name": "Python 3 (ipykernel)",
   "language": "python",
   "name": "python3"
  },
  "language_info": {
   "codemirror_mode": {
    "name": "ipython",
    "version": 3
   },
   "file_extension": ".py",
   "mimetype": "text/x-python",
   "name": "python",
   "nbconvert_exporter": "python",
   "pygments_lexer": "ipython3",
   "version": "3.12.4"
  }
 },
 "nbformat": 4,
 "nbformat_minor": 5
}
