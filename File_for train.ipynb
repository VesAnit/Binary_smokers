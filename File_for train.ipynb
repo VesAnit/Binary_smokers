{
 "cells": [
  {
   "cell_type": "markdown",
   "id": "6325a62d-c6af-4717-8781-7fb4cd0db5ee",
   "metadata": {},
   "source": [
    "**В этом файле вы можете потренироваться. Вы можете сделать форк репозитория (через веб-сайт), сделать клон репозитория себе на компьютер, локально открыть файл, локально внести изменения в файл, создать коммит и сделать пулл-реквест. Затем я проверю, поступил ли от вас запрос, и если поступил - принимаю, и посмотрим, как отразились изменения**\n",
    "\n",
    "**Прошу не трогать основной файл**"
   ]
  },
  {
   "cell_type": "code",
   "execution_count": 1,
   "id": "31f93354-b552-4b2e-bd6a-f104ef07c958",
   "metadata": {},
   "outputs": [
    {
     "name": "stdout",
     "output_type": "stream",
     "text": [
      "Hello, command!\n"
     ]
    }
   ],
   "source": [
    "print('Hello, command!')"
   ]
  },
  {
   "cell_type": "code",
   "execution_count": null,
   "id": "e9cdaf8d-f8a5-467a-a555-5974edb23478",
   "metadata": {},
   "outputs": [],
   "source": []
  }
 ],
 "metadata": {
  "kernelspec": {
   "display_name": "Python 3 (ipykernel)",
   "language": "python",
   "name": "python3"
  },
  "language_info": {
   "codemirror_mode": {
    "name": "ipython",
    "version": 3
   },
   "file_extension": ".py",
   "mimetype": "text/x-python",
   "name": "python",
   "nbconvert_exporter": "python",
   "pygments_lexer": "ipython3",
   "version": "3.12.4"
  }
 },
 "nbformat": 4,
 "nbformat_minor": 5
}
